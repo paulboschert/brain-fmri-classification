{
 "cells": [
  {
   "cell_type": "markdown",
   "id": "8a495bdd",
   "metadata": {},
   "source": [
    "# Machine Learning Final Project - Classification of Threat and Safety in Brain Imaging"
   ]
  },
  {
   "cell_type": "markdown",
   "id": "02f24b57",
   "metadata": {},
   "source": [
    "## Description\n",
    "\n",
    "I've been involved in some previous work in looking at fMRI data in classification tasks.  In this project I'm interested in exploring this technique more and hopefully learning something interesting about brain imaging and how we can use classification to understand it better.\n",
    "\n",
    "This project will take brain images from a study that was performed looking at individuals responses to a sound, then an immediate electric shock, then just the sound in one instance.  And in the other instance a sound, *no* electric shock, the same sound again.\n",
    "\n",
    "The idea here is that the first set of individuals will fear the second sound they here.  And the second set of individuals will experience a lack of fear.\n",
    "\n",
    "If this is the experience felt by the individuals, we can then classify which regions in the brain (from the fMRI scan) are areas associated with a fear response."
   ]
  },
  {
   "cell_type": "markdown",
   "id": "d581b9a4-3f14-47b5-950d-65fc7029609e",
   "metadata": {},
   "source": [
    "## Exploratory Data Analysis"
   ]
  },
  {
   "cell_type": "code",
   "execution_count": 17,
   "id": "e9f7fd27",
   "metadata": {
    "collapsed": false,
    "jupyter": {
     "outputs_hidden": false
    }
   },
   "outputs": [
    {
     "name": "stdout",
     "output_type": "stream",
     "text": [
      "[[[0. 0. 0. ... 0. 0. 0.]\n",
      "  [0. 0. 0. ... 0. 0. 0.]\n",
      "  [0. 0. 0. ... 0. 0. 0.]\n",
      "  ...\n",
      "  [0. 0. 0. ... 0. 0. 0.]\n",
      "  [0. 0. 0. ... 0. 0. 0.]\n",
      "  [0. 0. 0. ... 0. 0. 0.]]\n",
      "\n",
      " [[0. 0. 0. ... 0. 0. 0.]\n",
      "  [0. 0. 0. ... 0. 0. 0.]\n",
      "  [0. 0. 0. ... 0. 0. 0.]\n",
      "  ...\n",
      "  [0. 0. 0. ... 0. 0. 0.]\n",
      "  [0. 0. 0. ... 0. 0. 0.]\n",
      "  [0. 0. 0. ... 0. 0. 0.]]\n",
      "\n",
      " [[0. 0. 0. ... 0. 0. 0.]\n",
      "  [0. 0. 0. ... 0. 0. 0.]\n",
      "  [0. 0. 0. ... 0. 0. 0.]\n",
      "  ...\n",
      "  [0. 0. 0. ... 0. 0. 0.]\n",
      "  [0. 0. 0. ... 0. 0. 0.]\n",
      "  [0. 0. 0. ... 0. 0. 0.]]\n",
      "\n",
      " ...\n",
      "\n",
      " [[0. 0. 0. ... 0. 0. 0.]\n",
      "  [0. 0. 0. ... 0. 0. 0.]\n",
      "  [0. 0. 0. ... 0. 0. 0.]\n",
      "  ...\n",
      "  [0. 0. 0. ... 0. 0. 0.]\n",
      "  [0. 0. 0. ... 0. 0. 0.]\n",
      "  [0. 0. 0. ... 0. 0. 0.]]\n",
      "\n",
      " [[0. 0. 0. ... 0. 0. 0.]\n",
      "  [0. 0. 0. ... 0. 0. 0.]\n",
      "  [0. 0. 0. ... 0. 0. 0.]\n",
      "  ...\n",
      "  [0. 0. 0. ... 0. 0. 0.]\n",
      "  [0. 0. 0. ... 0. 0. 0.]\n",
      "  [0. 0. 0. ... 0. 0. 0.]]\n",
      "\n",
      " [[0. 0. 0. ... 0. 0. 0.]\n",
      "  [0. 0. 0. ... 0. 0. 0.]\n",
      "  [0. 0. 0. ... 0. 0. 0.]\n",
      "  ...\n",
      "  [0. 0. 0. ... 0. 0. 0.]\n",
      "  [0. 0. 0. ... 0. 0. 0.]\n",
      "  [0. 0. 0. ... 0. 0. 0.]]]\n",
      "[]\n",
      "[(b'csp',) (b'csm',) (b'csp',) (b'csm',) (b'csp',) (b'csm',) (b'csp',)\n",
      " (b'csm',) (b'csp',) (b'csm',) (b'csp',) (b'csm',) (b'csp',) (b'csm',)\n",
      " (b'csp',) (b'csm',) (b'csp',) (b'csm',) (b'csp',) (b'csm',) (b'csp',)\n",
      " (b'csm',) (b'csp',) (b'csm',) (b'csp',) (b'csm',) (b'csp',) (b'csm',)\n",
      " (b'csp',) (b'csm',) (b'csp',) (b'csm',) (b'csp',) (b'csm',) (b'csp',)\n",
      " (b'csm',) (b'csp',) (b'csm',) (b'csp',) (b'csm',) (b'csp',) (b'csm',)\n",
      " (b'csp',) (b'csm',) (b'csp',) (b'csm',) (b'csp',) (b'csm',) (b'csp',)\n",
      " (b'csm',) (b'csp',) (b'csm',) (b'csp',) (b'csm',) (b'csp',) (b'csm',)\n",
      " (b'csp',) (b'csm',) (b'csp',) (b'csm',) (b'csp',) (b'csm',) (b'csp',)\n",
      " (b'csm',) (b'csp',) (b'csm',) (b'csp',) (b'csm',) (b'csp',) (b'csm',)\n",
      " (b'csp',) (b'csm',) (b'csp',) (b'csm',) (b'csp',) (b'csm',) (b'csp',)\n",
      " (b'csm',) (b'csp',) (b'csm',) (b'csp',) (b'csm',) (b'csp',) (b'csm',)\n",
      " (b'csp',) (b'csm',) (b'csp',) (b'csm',) (b'csp',) (b'csm',) (b'csp',)\n",
      " (b'csm',) (b'csp',) (b'csm',) (b'csp',) (b'csm',) (b'csp',) (b'csm',)\n",
      " (b'csp',) (b'csm',) (b'csp',) (b'csm',) (b'csp',) (b'csm',) (b'csp',)\n",
      " (b'csm',) (b'csp',) (b'csm',) (b'csp',) (b'csm',) (b'csp',) (b'csm',)\n",
      " (b'csp',) (b'csm',) (b'csp',) (b'csm',) (b'csp',) (b'csm',) (b'csp',)\n",
      " (b'csm',) (b'csp',) (b'csm',) (b'csp',) (b'csm',) (b'csp',) (b'csm',)\n",
      " (b'csp',) (b'csm',) (b'csp',) (b'csm',) (b'csp',) (b'csm',) (b'csp',)\n",
      " (b'csm',) (b'csp',) (b'csm',)]\n"
     ]
    },
    {
     "name": "stderr",
     "output_type": "stream",
     "text": [
      "/Users/ebcdic/.pyenv/versions/3.11.1/lib/python3.11/site-packages/numpy/lib/npyio.py:2538: VisibleDeprecationWarning: Reading unicode strings without specifying the encoding argument is deprecated. Set the encoding, use None for the system default.\n",
      "  output = genfromtxt(fname, **kwargs)\n"
     ]
    },
    {
     "ename": "TypeError",
     "evalue": "Cannot concatenate empty objects",
     "output_type": "error",
     "traceback": [
      "\u001b[0;31m---------------------------------------------------------------------------\u001b[0m",
      "\u001b[0;31mStopIteration\u001b[0m                             Traceback (most recent call last)",
      "File \u001b[0;32m~/.pyenv/versions/3.11.1/lib/python3.11/site-packages/nilearn/_utils/niimg_conversions.py:493\u001b[0m, in \u001b[0;36mconcat_niimgs\u001b[0;34m(niimgs, dtype, ensure_ndim, memory, memory_level, auto_resample, verbose)\u001b[0m\n\u001b[1;32m    492\u001b[0m \u001b[38;5;28;01mtry\u001b[39;00m:\n\u001b[0;32m--> 493\u001b[0m     first_niimg \u001b[38;5;241m=\u001b[39m check_niimg(\u001b[38;5;28;43mnext\u001b[39;49m\u001b[43m(\u001b[49m\u001b[43mliterator\u001b[49m\u001b[43m)\u001b[49m, ensure_ndim\u001b[38;5;241m=\u001b[39mndim)\n\u001b[1;32m    494\u001b[0m \u001b[38;5;28;01mexcept\u001b[39;00m \u001b[38;5;167;01mStopIteration\u001b[39;00m:\n",
      "\u001b[0;31mStopIteration\u001b[0m: ",
      "\nDuring handling of the above exception, another exception occurred:\n",
      "\u001b[0;31mTypeError\u001b[0m                                 Traceback (most recent call last)",
      "Cell \u001b[0;32mIn[17], line 36\u001b[0m\n\u001b[1;32m     34\u001b[0m mask_filename \u001b[38;5;241m=\u001b[39m \u001b[38;5;124m'\u001b[39m\u001b[38;5;124m/storage/workspace/google_drive/pabo6156@colorado.edu/ML_Final_Proj/fmri/BinaryWholeBrain.nii\u001b[39m\u001b[38;5;124m'\u001b[39m\n\u001b[1;32m     35\u001b[0m nifti_masker \u001b[38;5;241m=\u001b[39m NiftiMasker(mask_img\u001b[38;5;241m=\u001b[39mmask_filename, standardize\u001b[38;5;241m=\u001b[39m\u001b[38;5;28;01mFalse\u001b[39;00m)\n\u001b[0;32m---> 36\u001b[0m fmri_masked \u001b[38;5;241m=\u001b[39m \u001b[43mnifti_masker\u001b[49m\u001b[38;5;241;43m.\u001b[39;49m\u001b[43mfit_transform\u001b[49m\u001b[43m(\u001b[49m\u001b[43mcs_data\u001b[49m\u001b[43m)\u001b[49m\n\u001b[1;32m     39\u001b[0m \u001b[38;5;66;03m# cs p\u001b[39;00m\n\u001b[1;32m     40\u001b[0m img_csp\u001b[38;5;241m=\u001b[39mnib\u001b[38;5;241m.\u001b[39mload(\u001b[38;5;124m'\u001b[39m\u001b[38;5;124m/storage/workspace/google_drive/pabo6156@colorado.edu/ML_Final_Proj/fmri/model1/con_0001.img\u001b[39m\u001b[38;5;124m'\u001b[39m)\n",
      "File \u001b[0;32m~/.pyenv/versions/3.11.1/lib/python3.11/site-packages/sklearn/utils/_set_output.py:140\u001b[0m, in \u001b[0;36m_wrap_method_output.<locals>.wrapped\u001b[0;34m(self, X, *args, **kwargs)\u001b[0m\n\u001b[1;32m    138\u001b[0m \u001b[38;5;129m@wraps\u001b[39m(f)\n\u001b[1;32m    139\u001b[0m \u001b[38;5;28;01mdef\u001b[39;00m \u001b[38;5;21mwrapped\u001b[39m(\u001b[38;5;28mself\u001b[39m, X, \u001b[38;5;241m*\u001b[39margs, \u001b[38;5;241m*\u001b[39m\u001b[38;5;241m*\u001b[39mkwargs):\n\u001b[0;32m--> 140\u001b[0m     data_to_wrap \u001b[38;5;241m=\u001b[39m \u001b[43mf\u001b[49m\u001b[43m(\u001b[49m\u001b[38;5;28;43mself\u001b[39;49m\u001b[43m,\u001b[49m\u001b[43m \u001b[49m\u001b[43mX\u001b[49m\u001b[43m,\u001b[49m\u001b[43m \u001b[49m\u001b[38;5;241;43m*\u001b[39;49m\u001b[43margs\u001b[49m\u001b[43m,\u001b[49m\u001b[43m \u001b[49m\u001b[38;5;241;43m*\u001b[39;49m\u001b[38;5;241;43m*\u001b[39;49m\u001b[43mkwargs\u001b[49m\u001b[43m)\u001b[49m\n\u001b[1;32m    141\u001b[0m     \u001b[38;5;28;01mif\u001b[39;00m \u001b[38;5;28misinstance\u001b[39m(data_to_wrap, \u001b[38;5;28mtuple\u001b[39m):\n\u001b[1;32m    142\u001b[0m         \u001b[38;5;66;03m# only wrap the first output for cross decomposition\u001b[39;00m\n\u001b[1;32m    143\u001b[0m         return_tuple \u001b[38;5;241m=\u001b[39m (\n\u001b[1;32m    144\u001b[0m             _wrap_data_with_container(method, data_to_wrap[\u001b[38;5;241m0\u001b[39m], X, \u001b[38;5;28mself\u001b[39m),\n\u001b[1;32m    145\u001b[0m             \u001b[38;5;241m*\u001b[39mdata_to_wrap[\u001b[38;5;241m1\u001b[39m:],\n\u001b[1;32m    146\u001b[0m         )\n",
      "File \u001b[0;32m~/.pyenv/versions/3.11.1/lib/python3.11/site-packages/nilearn/maskers/base_masker.py:309\u001b[0m, in \u001b[0;36mBaseMasker.fit_transform\u001b[0;34m(self, X, y, confounds, sample_mask, **fit_params)\u001b[0m\n\u001b[1;32m    304\u001b[0m     \u001b[38;5;28;01mif\u001b[39;00m \u001b[38;5;28mself\u001b[39m\u001b[38;5;241m.\u001b[39mmask_img \u001b[38;5;129;01mis\u001b[39;00m \u001b[38;5;28;01mNone\u001b[39;00m:\n\u001b[1;32m    305\u001b[0m         \u001b[38;5;28;01mreturn\u001b[39;00m \u001b[38;5;28mself\u001b[39m\u001b[38;5;241m.\u001b[39mfit(X, \u001b[38;5;241m*\u001b[39m\u001b[38;5;241m*\u001b[39mfit_params)\u001b[38;5;241m.\u001b[39mtransform(\n\u001b[1;32m    306\u001b[0m             X, confounds\u001b[38;5;241m=\u001b[39mconfounds, sample_mask\u001b[38;5;241m=\u001b[39msample_mask\n\u001b[1;32m    307\u001b[0m         )\n\u001b[0;32m--> 309\u001b[0m     \u001b[38;5;28;01mreturn\u001b[39;00m \u001b[38;5;28;43mself\u001b[39;49m\u001b[38;5;241;43m.\u001b[39;49m\u001b[43mfit\u001b[49m\u001b[43m(\u001b[49m\u001b[38;5;241;43m*\u001b[39;49m\u001b[38;5;241;43m*\u001b[39;49m\u001b[43mfit_params\u001b[49m\u001b[43m)\u001b[49m\u001b[38;5;241;43m.\u001b[39;49m\u001b[43mtransform\u001b[49m\u001b[43m(\u001b[49m\n\u001b[1;32m    310\u001b[0m \u001b[43m        \u001b[49m\u001b[43mX\u001b[49m\u001b[43m,\u001b[49m\u001b[43m \u001b[49m\u001b[43mconfounds\u001b[49m\u001b[38;5;241;43m=\u001b[39;49m\u001b[43mconfounds\u001b[49m\u001b[43m,\u001b[49m\u001b[43m \u001b[49m\u001b[43msample_mask\u001b[49m\u001b[38;5;241;43m=\u001b[39;49m\u001b[43msample_mask\u001b[49m\n\u001b[1;32m    311\u001b[0m \u001b[43m    \u001b[49m\u001b[43m)\u001b[49m\n\u001b[1;32m    313\u001b[0m \u001b[38;5;66;03m# fit method of arity 2 (supervised transformation)\u001b[39;00m\n\u001b[1;32m    314\u001b[0m \u001b[38;5;28;01mif\u001b[39;00m \u001b[38;5;28mself\u001b[39m\u001b[38;5;241m.\u001b[39mmask_img \u001b[38;5;129;01mis\u001b[39;00m \u001b[38;5;28;01mNone\u001b[39;00m:\n",
      "File \u001b[0;32m~/.pyenv/versions/3.11.1/lib/python3.11/site-packages/sklearn/utils/_set_output.py:140\u001b[0m, in \u001b[0;36m_wrap_method_output.<locals>.wrapped\u001b[0;34m(self, X, *args, **kwargs)\u001b[0m\n\u001b[1;32m    138\u001b[0m \u001b[38;5;129m@wraps\u001b[39m(f)\n\u001b[1;32m    139\u001b[0m \u001b[38;5;28;01mdef\u001b[39;00m \u001b[38;5;21mwrapped\u001b[39m(\u001b[38;5;28mself\u001b[39m, X, \u001b[38;5;241m*\u001b[39margs, \u001b[38;5;241m*\u001b[39m\u001b[38;5;241m*\u001b[39mkwargs):\n\u001b[0;32m--> 140\u001b[0m     data_to_wrap \u001b[38;5;241m=\u001b[39m \u001b[43mf\u001b[49m\u001b[43m(\u001b[49m\u001b[38;5;28;43mself\u001b[39;49m\u001b[43m,\u001b[49m\u001b[43m \u001b[49m\u001b[43mX\u001b[49m\u001b[43m,\u001b[49m\u001b[43m \u001b[49m\u001b[38;5;241;43m*\u001b[39;49m\u001b[43margs\u001b[49m\u001b[43m,\u001b[49m\u001b[43m \u001b[49m\u001b[38;5;241;43m*\u001b[39;49m\u001b[38;5;241;43m*\u001b[39;49m\u001b[43mkwargs\u001b[49m\u001b[43m)\u001b[49m\n\u001b[1;32m    141\u001b[0m     \u001b[38;5;28;01mif\u001b[39;00m \u001b[38;5;28misinstance\u001b[39m(data_to_wrap, \u001b[38;5;28mtuple\u001b[39m):\n\u001b[1;32m    142\u001b[0m         \u001b[38;5;66;03m# only wrap the first output for cross decomposition\u001b[39;00m\n\u001b[1;32m    143\u001b[0m         return_tuple \u001b[38;5;241m=\u001b[39m (\n\u001b[1;32m    144\u001b[0m             _wrap_data_with_container(method, data_to_wrap[\u001b[38;5;241m0\u001b[39m], X, \u001b[38;5;28mself\u001b[39m),\n\u001b[1;32m    145\u001b[0m             \u001b[38;5;241m*\u001b[39mdata_to_wrap[\u001b[38;5;241m1\u001b[39m:],\n\u001b[1;32m    146\u001b[0m         )\n",
      "File \u001b[0;32m~/.pyenv/versions/3.11.1/lib/python3.11/site-packages/nilearn/maskers/base_masker.py:252\u001b[0m, in \u001b[0;36mBaseMasker.transform\u001b[0;34m(self, imgs, confounds, sample_mask)\u001b[0m\n\u001b[1;32m    249\u001b[0m \u001b[38;5;28mself\u001b[39m\u001b[38;5;241m.\u001b[39m_check_fitted()\n\u001b[1;32m    251\u001b[0m \u001b[38;5;28;01mif\u001b[39;00m confounds \u001b[38;5;129;01mis\u001b[39;00m \u001b[38;5;28;01mNone\u001b[39;00m \u001b[38;5;129;01mand\u001b[39;00m \u001b[38;5;129;01mnot\u001b[39;00m \u001b[38;5;28mself\u001b[39m\u001b[38;5;241m.\u001b[39mhigh_variance_confounds:\n\u001b[0;32m--> 252\u001b[0m     \u001b[38;5;28;01mreturn\u001b[39;00m \u001b[38;5;28;43mself\u001b[39;49m\u001b[38;5;241;43m.\u001b[39;49m\u001b[43mtransform_single_imgs\u001b[49m\u001b[43m(\u001b[49m\n\u001b[1;32m    253\u001b[0m \u001b[43m        \u001b[49m\u001b[43mimgs\u001b[49m\u001b[43m,\u001b[49m\u001b[43m \u001b[49m\u001b[43mconfounds\u001b[49m\u001b[38;5;241;43m=\u001b[39;49m\u001b[43mconfounds\u001b[49m\u001b[43m,\u001b[49m\u001b[43m \u001b[49m\u001b[43msample_mask\u001b[49m\u001b[38;5;241;43m=\u001b[39;49m\u001b[43msample_mask\u001b[49m\n\u001b[1;32m    254\u001b[0m \u001b[43m    \u001b[49m\u001b[43m)\u001b[49m\n\u001b[1;32m    256\u001b[0m \u001b[38;5;66;03m# Compute high variance confounds if requested\u001b[39;00m\n\u001b[1;32m    257\u001b[0m all_confounds \u001b[38;5;241m=\u001b[39m []\n",
      "File \u001b[0;32m~/.pyenv/versions/3.11.1/lib/python3.11/site-packages/nilearn/maskers/nifti_masker.py:558\u001b[0m, in \u001b[0;36mNiftiMasker.transform_single_imgs\u001b[0;34m(self, imgs, confounds, sample_mask, copy)\u001b[0m\n\u001b[1;32m    545\u001b[0m params \u001b[38;5;241m=\u001b[39m _utils\u001b[38;5;241m.\u001b[39mclass_inspect\u001b[38;5;241m.\u001b[39mget_params(\n\u001b[1;32m    546\u001b[0m     \u001b[38;5;28mself\u001b[39m\u001b[38;5;241m.\u001b[39m\u001b[38;5;18m__class__\u001b[39m,\n\u001b[1;32m    547\u001b[0m     \u001b[38;5;28mself\u001b[39m,\n\u001b[0;32m   (...)\u001b[0m\n\u001b[1;32m    554\u001b[0m     ],\n\u001b[1;32m    555\u001b[0m )\n\u001b[1;32m    556\u001b[0m params[\u001b[38;5;124m\"\u001b[39m\u001b[38;5;124mclean_kwargs\u001b[39m\u001b[38;5;124m\"\u001b[39m] \u001b[38;5;241m=\u001b[39m \u001b[38;5;28mself\u001b[39m\u001b[38;5;241m.\u001b[39mclean_kwargs\n\u001b[0;32m--> 558\u001b[0m data \u001b[38;5;241m=\u001b[39m \u001b[38;5;28;43mself\u001b[39;49m\u001b[38;5;241;43m.\u001b[39;49m\u001b[43m_cache\u001b[49m\u001b[43m(\u001b[49m\n\u001b[1;32m    559\u001b[0m \u001b[43m    \u001b[49m\u001b[43m_filter_and_mask\u001b[49m\u001b[43m,\u001b[49m\n\u001b[1;32m    560\u001b[0m \u001b[43m    \u001b[49m\u001b[43mignore\u001b[49m\u001b[38;5;241;43m=\u001b[39;49m\u001b[43m[\u001b[49m\n\u001b[1;32m    561\u001b[0m \u001b[43m        \u001b[49m\u001b[38;5;124;43m\"\u001b[39;49m\u001b[38;5;124;43mverbose\u001b[39;49m\u001b[38;5;124;43m\"\u001b[39;49m\u001b[43m,\u001b[49m\n\u001b[1;32m    562\u001b[0m \u001b[43m        \u001b[49m\u001b[38;5;124;43m\"\u001b[39;49m\u001b[38;5;124;43mmemory\u001b[39;49m\u001b[38;5;124;43m\"\u001b[39;49m\u001b[43m,\u001b[49m\n\u001b[1;32m    563\u001b[0m \u001b[43m        \u001b[49m\u001b[38;5;124;43m\"\u001b[39;49m\u001b[38;5;124;43mmemory_level\u001b[39;49m\u001b[38;5;124;43m\"\u001b[39;49m\u001b[43m,\u001b[49m\n\u001b[1;32m    564\u001b[0m \u001b[43m        \u001b[49m\u001b[38;5;124;43m\"\u001b[39;49m\u001b[38;5;124;43mcopy\u001b[39;49m\u001b[38;5;124;43m\"\u001b[39;49m\u001b[43m,\u001b[49m\n\u001b[1;32m    565\u001b[0m \u001b[43m    \u001b[49m\u001b[43m]\u001b[49m\u001b[43m,\u001b[49m\n\u001b[1;32m    566\u001b[0m \u001b[43m    \u001b[49m\u001b[43mshelve\u001b[49m\u001b[38;5;241;43m=\u001b[39;49m\u001b[38;5;28;43mself\u001b[39;49m\u001b[38;5;241;43m.\u001b[39;49m\u001b[43m_shelving\u001b[49m\u001b[43m,\u001b[49m\n\u001b[1;32m    567\u001b[0m \u001b[43m\u001b[49m\u001b[43m)\u001b[49m\u001b[43m(\u001b[49m\n\u001b[1;32m    568\u001b[0m \u001b[43m    \u001b[49m\u001b[43mimgs\u001b[49m\u001b[43m,\u001b[49m\n\u001b[1;32m    569\u001b[0m \u001b[43m    \u001b[49m\u001b[38;5;28;43mself\u001b[39;49m\u001b[38;5;241;43m.\u001b[39;49m\u001b[43mmask_img_\u001b[49m\u001b[43m,\u001b[49m\n\u001b[1;32m    570\u001b[0m \u001b[43m    \u001b[49m\u001b[43mparams\u001b[49m\u001b[43m,\u001b[49m\n\u001b[1;32m    571\u001b[0m \u001b[43m    \u001b[49m\u001b[43mmemory_level\u001b[49m\u001b[38;5;241;43m=\u001b[39;49m\u001b[38;5;28;43mself\u001b[39;49m\u001b[38;5;241;43m.\u001b[39;49m\u001b[43mmemory_level\u001b[49m\u001b[43m,\u001b[49m\n\u001b[1;32m    572\u001b[0m \u001b[43m    \u001b[49m\u001b[43mmemory\u001b[49m\u001b[38;5;241;43m=\u001b[39;49m\u001b[38;5;28;43mself\u001b[39;49m\u001b[38;5;241;43m.\u001b[39;49m\u001b[43mmemory\u001b[49m\u001b[43m,\u001b[49m\n\u001b[1;32m    573\u001b[0m \u001b[43m    \u001b[49m\u001b[43mverbose\u001b[49m\u001b[38;5;241;43m=\u001b[39;49m\u001b[38;5;28;43mself\u001b[39;49m\u001b[38;5;241;43m.\u001b[39;49m\u001b[43mverbose\u001b[49m\u001b[43m,\u001b[49m\n\u001b[1;32m    574\u001b[0m \u001b[43m    \u001b[49m\u001b[43mconfounds\u001b[49m\u001b[38;5;241;43m=\u001b[39;49m\u001b[43mconfounds\u001b[49m\u001b[43m,\u001b[49m\n\u001b[1;32m    575\u001b[0m \u001b[43m    \u001b[49m\u001b[43msample_mask\u001b[49m\u001b[38;5;241;43m=\u001b[39;49m\u001b[43msample_mask\u001b[49m\u001b[43m,\u001b[49m\n\u001b[1;32m    576\u001b[0m \u001b[43m    \u001b[49m\u001b[43mcopy\u001b[49m\u001b[38;5;241;43m=\u001b[39;49m\u001b[43mcopy\u001b[49m\u001b[43m,\u001b[49m\n\u001b[1;32m    577\u001b[0m \u001b[43m    \u001b[49m\u001b[43mdtype\u001b[49m\u001b[38;5;241;43m=\u001b[39;49m\u001b[38;5;28;43mself\u001b[39;49m\u001b[38;5;241;43m.\u001b[39;49m\u001b[43mdtype\u001b[49m\u001b[43m,\u001b[49m\n\u001b[1;32m    578\u001b[0m \u001b[43m\u001b[49m\u001b[43m)\u001b[49m\n\u001b[1;32m    580\u001b[0m \u001b[38;5;28;01mreturn\u001b[39;00m data\n",
      "File \u001b[0;32m~/.pyenv/versions/3.11.1/lib/python3.11/site-packages/joblib/memory.py:349\u001b[0m, in \u001b[0;36mNotMemorizedFunc.__call__\u001b[0;34m(self, *args, **kwargs)\u001b[0m\n\u001b[1;32m    348\u001b[0m \u001b[38;5;28;01mdef\u001b[39;00m \u001b[38;5;21m__call__\u001b[39m(\u001b[38;5;28mself\u001b[39m, \u001b[38;5;241m*\u001b[39margs, \u001b[38;5;241m*\u001b[39m\u001b[38;5;241m*\u001b[39mkwargs):\n\u001b[0;32m--> 349\u001b[0m     \u001b[38;5;28;01mreturn\u001b[39;00m \u001b[38;5;28;43mself\u001b[39;49m\u001b[38;5;241;43m.\u001b[39;49m\u001b[43mfunc\u001b[49m\u001b[43m(\u001b[49m\u001b[38;5;241;43m*\u001b[39;49m\u001b[43margs\u001b[49m\u001b[43m,\u001b[49m\u001b[43m \u001b[49m\u001b[38;5;241;43m*\u001b[39;49m\u001b[38;5;241;43m*\u001b[39;49m\u001b[43mkwargs\u001b[49m\u001b[43m)\u001b[49m\n",
      "File \u001b[0;32m~/.pyenv/versions/3.11.1/lib/python3.11/site-packages/nilearn/maskers/nifti_masker.py:90\u001b[0m, in \u001b[0;36m_filter_and_mask\u001b[0;34m(imgs, mask_img_, parameters, memory_level, memory, verbose, confounds, sample_mask, copy, dtype)\u001b[0m\n\u001b[1;32m     71\u001b[0m \u001b[38;5;250m\u001b[39m\u001b[38;5;124;03m\"\"\"Extract representative time series using given mask.\u001b[39;00m\n\u001b[1;32m     72\u001b[0m \n\u001b[1;32m     73\u001b[0m \u001b[38;5;124;03mParameters\u001b[39;00m\n\u001b[0;32m   (...)\u001b[0m\n\u001b[1;32m     85\u001b[0m \n\u001b[1;32m     86\u001b[0m \u001b[38;5;124;03m\"\"\"\u001b[39;00m\n\u001b[1;32m     87\u001b[0m \u001b[38;5;66;03m# Convert input to niimg to check shape.\u001b[39;00m\n\u001b[1;32m     88\u001b[0m \u001b[38;5;66;03m# This must be repeated after the shape check because check_niimg will\u001b[39;00m\n\u001b[1;32m     89\u001b[0m \u001b[38;5;66;03m# coerce 5D data to 4D, which we don't want.\u001b[39;00m\n\u001b[0;32m---> 90\u001b[0m temp_imgs \u001b[38;5;241m=\u001b[39m \u001b[43m_utils\u001b[49m\u001b[38;5;241;43m.\u001b[39;49m\u001b[43mcheck_niimg\u001b[49m\u001b[43m(\u001b[49m\u001b[43mimgs\u001b[49m\u001b[43m)\u001b[49m\n\u001b[1;32m     92\u001b[0m \u001b[38;5;66;03m# Raise warning if a 3D niimg is provided.\u001b[39;00m\n\u001b[1;32m     93\u001b[0m \u001b[38;5;28;01mif\u001b[39;00m temp_imgs\u001b[38;5;241m.\u001b[39mndim \u001b[38;5;241m==\u001b[39m \u001b[38;5;241m3\u001b[39m:\n",
      "File \u001b[0;32m~/.pyenv/versions/3.11.1/lib/python3.11/site-packages/nilearn/_utils/niimg_conversions.py:316\u001b[0m, in \u001b[0;36mcheck_niimg\u001b[0;34m(niimg, ensure_ndim, atleast_4d, dtype, return_iterator, wildcards)\u001b[0m\n\u001b[1;32m    312\u001b[0m     \u001b[38;5;28;01mif\u001b[39;00m return_iterator:\n\u001b[1;32m    313\u001b[0m         \u001b[38;5;28;01mreturn\u001b[39;00m _iter_check_niimg(\n\u001b[1;32m    314\u001b[0m             niimg, ensure_ndim\u001b[38;5;241m=\u001b[39mensure_ndim, dtype\u001b[38;5;241m=\u001b[39mdtype\n\u001b[1;32m    315\u001b[0m         )\n\u001b[0;32m--> 316\u001b[0m     \u001b[38;5;28;01mreturn\u001b[39;00m \u001b[43mconcat_niimgs\u001b[49m\u001b[43m(\u001b[49m\u001b[43mniimg\u001b[49m\u001b[43m,\u001b[49m\u001b[43m \u001b[49m\u001b[43mensure_ndim\u001b[49m\u001b[38;5;241;43m=\u001b[39;49m\u001b[43mensure_ndim\u001b[49m\u001b[43m,\u001b[49m\u001b[43m \u001b[49m\u001b[43mdtype\u001b[49m\u001b[38;5;241;43m=\u001b[39;49m\u001b[43mdtype\u001b[49m\u001b[43m)\u001b[49m\n\u001b[1;32m    318\u001b[0m \u001b[38;5;66;03m# Otherwise, it should be a filename or a SpatialImage, we load it\u001b[39;00m\n\u001b[1;32m    319\u001b[0m niimg \u001b[38;5;241m=\u001b[39m load_niimg(niimg, dtype\u001b[38;5;241m=\u001b[39mdtype)\n",
      "File \u001b[0;32m~/.pyenv/versions/3.11.1/lib/python3.11/site-packages/nilearn/_utils/niimg_conversions.py:495\u001b[0m, in \u001b[0;36mconcat_niimgs\u001b[0;34m(niimgs, dtype, ensure_ndim, memory, memory_level, auto_resample, verbose)\u001b[0m\n\u001b[1;32m    493\u001b[0m     first_niimg \u001b[38;5;241m=\u001b[39m check_niimg(\u001b[38;5;28mnext\u001b[39m(literator), ensure_ndim\u001b[38;5;241m=\u001b[39mndim)\n\u001b[1;32m    494\u001b[0m \u001b[38;5;28;01mexcept\u001b[39;00m \u001b[38;5;167;01mStopIteration\u001b[39;00m:\n\u001b[0;32m--> 495\u001b[0m     \u001b[38;5;28;01mraise\u001b[39;00m \u001b[38;5;167;01mTypeError\u001b[39;00m(\u001b[38;5;124m\"\u001b[39m\u001b[38;5;124mCannot concatenate empty objects\u001b[39m\u001b[38;5;124m\"\u001b[39m)\n\u001b[1;32m    496\u001b[0m \u001b[38;5;28;01mexcept\u001b[39;00m DimensionError \u001b[38;5;28;01mas\u001b[39;00m exc:\n\u001b[1;32m    497\u001b[0m     \u001b[38;5;66;03m# Keep track of the additional dimension in the error\u001b[39;00m\n\u001b[1;32m    498\u001b[0m     exc\u001b[38;5;241m.\u001b[39mincrement_stack_counter()\n",
      "\u001b[0;31mTypeError\u001b[0m: Cannot concatenate empty objects"
     ]
    }
   ],
   "source": [
    "import glob\n",
    "import numpy as np\n",
    "import os #for paths\n",
    "import nibabel as nib\n",
    "np.set_printoptions(precision=2, suppress=True) #2decimals\n",
    "from nilearn.input_data import NiftiMasker\n",
    "import matplotlib.pyplot as plt\n",
    "\n",
    "def show_slices(slices):\n",
    " \"\"\" Display row of image slices \"\"\"\n",
    " fig, axes = plt.subplots(1, len(slices))\n",
    " for i, slice in enumerate(slices):\n",
    "     axes[i].imshow(slice.T, cmap=\"gray\", origin=\"lower\")\n",
    "\n",
    "acq_Z_sig=nib.load('/storage/workspace/google_drive/pabo6156@colorado.edu/ML_Final_Proj/acq_Z_wtmap.nii')\n",
    "acq_data=acq_Z_sig.get_fdata()\n",
    "print(acq_data)\n",
    "#acq_affine=acq_Z_sig.get_affine()\n",
    "#print(acq_affine)\n",
    "#acq_header=acq_Z_sig.get_header()\n",
    "#print(acq_header)\n",
    "\n",
    "# con 1 = csp > baseline, con2 csm >baseline\n",
    "cs_data=sorted(glob.glob('/storage/workspace/google_drive/pabo6156@colorado.edu/ML_Final_Proj/fmri/model/con_000[1-2].img'))\n",
    "print(cs_data)\n",
    "\n",
    "# load behavioral labels\n",
    "filename='/storage/workspace/google_drive/pabo6156@colorado.edu/ML_Final_Proj/fmri/acq_labels.csv'\n",
    "labels=np.recfromcsv(filename) #this will skip first col\n",
    "print(labels)\n",
    "\n",
    "# from nilearn import datasets\n",
    "# haxby_dataset = datasets.fetch_haxby()\n",
    "mask_filename = '/storage/workspace/google_drive/pabo6156@colorado.edu/ML_Final_Proj/fmri/BinaryWholeBrain.nii'\n",
    "nifti_masker = NiftiMasker(mask_img=mask_filename, standardize=False)\n",
    "fmri_masked = nifti_masker.fit_transform(cs_data)\n",
    "\n",
    "\n",
    "# cs p\n",
    "img_csp=nib.load('/storage/workspace/google_drive/pabo6156@colorado.edu/ML_Final_Proj/fmri/model1/con_0001.img')\n",
    "header=img_csp.get_header()\n",
    "print(header)\n",
    "epi_img_data = img_csp.get_data()\n",
    "\n",
    "\n",
    "slice_0 = epi_img_data[26, :, :]\n",
    "slice_1 = epi_img_data[:, 30, :]\n",
    "slice_2 = epi_img_data[:, :, 16]\n",
    "show_slices([slice_0, slice_1, slice_2])\n",
    "plt.suptitle(\"Center slices for EPI image\")  \n",
    "\n",
    "\n",
    "# Verify\n",
    "data = img.get_data() # raw scans bundled in a numpy array\n",
    "affine = img.get_affine() # voxel index & spatial location\n",
    "header = img.get_header() # info about data collection"
   ]
  },
  {
   "cell_type": "markdown",
   "id": "bb6d8f04",
   "metadata": {},
   "source": [
    "## Train Radial Basis Function SVM Classifier"
   ]
  },
  {
   "cell_type": "code",
   "execution_count": 45,
   "id": "2b673929",
   "metadata": {
    "collapsed": false,
    "jupyter": {
     "outputs_hidden": false
    }
   },
   "outputs": [
    {
     "data": {
      "text/plain": [
       "SVC(C=1.0, cache_size=200, class_weight=None, coef0=0.0, degree=3, gamma=0.0,\n",
       "  kernel='linear', max_iter=-1, probability=False, random_state=None,\n",
       "  shrinking=True, tol=0.001, verbose=False)"
      ]
     },
     "execution_count": 45,
     "metadata": {},
     "output_type": "execute_result"
    }
   ],
   "source": [
    "from sklearn.svm import SVC\n",
    "from sklearn.cross_validation import LeaveOneLabelOut\n",
    "\n",
    "svc = SVC(kernel='rbf')\n",
    "svc.fit(fmri_masked, labels)\n",
    "prediction = svc.predict(fmri_masked)\n",
    "\n"
   ]
  },
  {
   "cell_type": "code",
   "execution_count": 46,
   "id": "fcf44f2c",
   "metadata": {
    "collapsed": false,
    "jupyter": {
     "outputs_hidden": false
    }
   },
   "outputs": [
    {
     "name": "stdout",
     "output_type": "stream",
     "text": [
      "[0.5714285714285714, 0.66666666666666663, 0.85185185185185186, 0.7407407407407407, 0.70370370370370372]\n"
     ]
    }
   ],
   "source": [
    "from sklearn.cross_validation import KFold\n",
    "target=labels\n",
    "cv = KFold(n=len(fmri_masked), n_folds=5)\n",
    "cv_scores = []\n",
    "\n",
    "for train, test in cv:\n",
    "    svc.fit(fmri_masked[train], target[train])\n",
    "    prediction = svc.predict(fmri_masked[test])\n",
    "    cv_scores.append(np.sum(prediction == target[test])\n",
    "                     / float(np.size(target[test])))\n",
    "\n",
    "print(cv_scores)"
   ]
  },
  {
   "cell_type": "code",
   "execution_count": 47,
   "id": "f96ed32b",
   "metadata": {
    "collapsed": false,
    "jupyter": {
     "outputs_hidden": false
    }
   },
   "outputs": [
    {
     "name": "stdout",
     "output_type": "stream",
     "text": [
      "[ 0.57  0.67  0.85  0.74  0.7 ]\n",
      "0.706878306878\n"
     ]
    }
   ],
   "source": [
    "from sklearn.cross_validation import cross_val_score\n",
    "cv_scores = cross_val_score(svc, fmri_masked, target, cv=cv)\n",
    "print(cv_scores) \n",
    "classification_accuracy = np.mean(cv_scores)\n",
    "print(classification_accuracy)"
   ]
  },
  {
   "cell_type": "code",
   "execution_count": 36,
   "id": "a210ea64",
   "metadata": {
    "collapsed": false,
    "jupyter": {
     "outputs_hidden": false
    }
   },
   "outputs": [],
   "source": [
    "# cv = LeaveOneLabelOut(labels=target) \n",
    "# cv_scores = cross_val_score(svc, fmri_masked, target, cv=cv)\n",
    "# print(cv_scores)\n",
    "# classification_accuracy = np.mean(cv_scores)"
   ]
  },
  {
   "cell_type": "markdown",
   "id": "509cef0b",
   "metadata": {},
   "source": [
    "## Train and test the null hypothesis"
   ]
  },
  {
   "cell_type": "code",
   "execution_count": 48,
   "id": "7d9624bb",
   "metadata": {
    "collapsed": false,
    "jupyter": {
     "outputs_hidden": false
    }
   },
   "outputs": [
    {
     "name": "stdout",
     "output_type": "stream",
     "text": [
      "[ 0.46  0.33  0.59  0.63  0.44]\n"
     ]
    }
   ],
   "source": [
    "from sklearn.dummy import DummyClassifier\n",
    "null_cv_scores = cross_val_score(DummyClassifier(), fmri_masked, target, cv=cv)\n",
    "print(null_cv_scores)\n",
    "\n",
    "from sklearn.cross_validation import permutation_test_score\n",
    "null_cv_scores = permutation_test_score(svc, fmri_masked, target, cv=cv)\n",
    "print(null_cv_scores)"
   ]
  },
  {
   "cell_type": "markdown",
   "id": "f55db15f",
   "metadata": {},
   "source": [
    "## Show the weights of the SVM"
   ]
  },
  {
   "cell_type": "code",
   "execution_count": 49,
   "id": "876dc544",
   "metadata": {
    "collapsed": false,
    "jupyter": {
     "outputs_hidden": false
    }
   },
   "outputs": [],
   "source": [
    "# Retrieve the SVC discriminating weights\n",
    "coef_ = svc.coef_\n",
    "\n",
    "# Reverse masking thanks to the Nifti Masker\n",
    "coef_img = nifti_masker.inverse_transform(coef_)\n",
    "\n",
    "# Save the coefficients as a Nifti image\n",
    "coef_img.to_filename('acq_linear_svc_weights.nii')\n",
    "\n",
    "### Visualization #############################################################\n",
    "import matplotlib.pyplot as plt\n",
    "from nilearn.image.image import mean_img\n",
    "from nilearn.plotting import plot_roi, plot_stat_map\n",
    "\n",
    "mean_epi = mean_img(cs_data)\n",
    "plot_stat_map(coef_img, mean_epi, title=\"SVM weights\", display_mode=\"yx\")\n",
    "\n",
    "plot_roi(nifti_masker.mask_img_, mean_epi, title=\"Mask\", display_mode=\"yx\")\n",
    "\n",
    "plt.show()"
   ]
  },
  {
   "cell_type": "code",
   "execution_count": 50,
   "id": "f522d458",
   "metadata": {
    "collapsed": false,
    "jupyter": {
     "outputs_hidden": false
    }
   },
   "outputs": [],
   "source": []
  }
 ],
 "metadata": {
  "kernelspec": {
   "display_name": "local-venv-kernel",
   "language": "python",
   "name": "local-venv-kernel"
  },
  "language_info": {
   "codemirror_mode": {
    "name": "ipython",
    "version": 3
   },
   "file_extension": ".py",
   "mimetype": "text/x-python",
   "name": "python",
   "nbconvert_exporter": "python",
   "pygments_lexer": "ipython3",
   "version": "3.11.1"
  }
 },
 "nbformat": 4,
 "nbformat_minor": 5
}
